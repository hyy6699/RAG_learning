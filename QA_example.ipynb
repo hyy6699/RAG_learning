{
 "cells": [
  {
   "cell_type": "code",
   "execution_count": 11,
   "id": "8b630296-b567-4da3-93ed-078237fa0ceb",
   "metadata": {},
   "outputs": [
    {
     "name": "stdout",
     "output_type": "stream",
     "text": [
      "{'question': '“前排座椅通风”的相关内容在第几页？', 'answer': '', 'reference': ''}\n"
     ]
    },
    {
     "data": {
      "text/plain": [
       "'欢迎\\n感谢您选择了具有优良安全性、舒适性、动力性和经济性的Lynk&Co领克汽车。\\n首次使用前请仔细、完整地阅读本手册内容，将有助于您更好地了解和使用车辆。\\n本手册中的所有资料均为出版时的最新资料，但本公司将对产品进行不断的改进和优化，您所购的车辆可能与本手册中的描述有所不同，请以实际\\n接收的车辆为准。\\n如您有任何问题，或需要预约服务，请拨打电话4006-010101联系我们。您也可以开车前往Lynk&Co领克中心。\\n在抵达之前，请您注意驾车安全。\\n©领克汽车销售有限公司'"
      ]
     },
     "execution_count": 11,
     "metadata": {},
     "output_type": "execute_result"
    }
   ],
   "source": [
    "import json\n",
    "import pdfplumber\n",
    "\n",
    "questions = json.load(open(\"questions.json\",encoding=\"utf-8\"))\n",
    "print(questions[0])\n",
    "\n",
    "pdf = pdfplumber.open(\"初赛训练数据集.pdf\")\n",
    "len(pdf.pages) # 页数\n",
    "pdf.pages[0].extract_text() # 读取第一页内容,只能读可选择的PDF"
   ]
  },
  {
   "cell_type": "code",
   "execution_count": 18,
   "id": "1e8661f3-bd7b-479f-8875-a9f4df576c81",
   "metadata": {},
   "outputs": [],
   "source": [
    "pdf_content = []\n",
    "for page_idx in range(len(pdf.pages)):\n",
    "    pdf_content.append({\n",
    "        'page': 'page_' + str(page_idx + 1),\n",
    "        'content': pdf.pages[page_idx].extract_text()\n",
    "    })"
   ]
  },
  {
   "cell_type": "code",
   "execution_count": 22,
   "id": "61331ed7-26ec-4c32-84e3-f0db37399b9f",
   "metadata": {},
   "outputs": [
    {
     "data": {
      "text/plain": [
       "[{'question': '“前排座椅通风”的相关内容在第几页？', 'answer': '', 'reference': ''},\n",
       " {'question': '\"关于车辆的儿童安全座椅固定装置，在哪一页可以找到相关内容？\"',\n",
       "  'answer': '',\n",
       "  'reference': ''}]"
      ]
     },
     "execution_count": 22,
     "metadata": {},
     "output_type": "execute_result"
    }
   ],
   "source": [
    "questions[:2]"
   ]
  },
  {
   "cell_type": "code",
   "execution_count": null,
   "id": "8f91b0cf-cede-4289-add5-d4e13612217d",
   "metadata": {},
   "outputs": [],
   "source": []
  }
 ],
 "metadata": {
  "kernelspec": {
   "display_name": "Python 3 (ipykernel)",
   "language": "python",
   "name": "python3"
  },
  "language_info": {
   "codemirror_mode": {
    "name": "ipython",
    "version": 3
   },
   "file_extension": ".py",
   "mimetype": "text/x-python",
   "name": "python",
   "nbconvert_exporter": "python",
   "pygments_lexer": "ipython3",
   "version": "3.12.4"
  }
 },
 "nbformat": 4,
 "nbformat_minor": 5
}
