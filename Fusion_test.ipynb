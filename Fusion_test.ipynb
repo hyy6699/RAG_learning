{
 "cells": [
  {
   "cell_type": "code",
   "execution_count": 11,
   "id": "8128f563-b921-4017-8e39-44c811ea38a1",
   "metadata": {},
   "outputs": [],
   "source": [
    "#多路召回，对于多种方法的结果进行加权比较\n",
    "import json\n",
    "bge = json.load(open(\"submit_bge_t10.json\",encoding='utf-8'))\n",
    "bm25 = json.load(open(\"submit_bm25_t10.json\",encoding='utf-8'))\n",
    "\n",
    "fusion_result = []\n",
    "k=60\n",
    "#进行排序的方式打分\n",
    "for q1,q2 in zip(bge,bm25):\n",
    "    fusion_score = {}\n",
    "    for idx,q in enumerate(q1['reference']):\n",
    "        if q not in fusion_score:\n",
    "            fusion_score[q] = 1/ (idx + k)\n",
    "        else:\n",
    "            fusion_score[q] += 1 / (idx + k)\n",
    "\n",
    "    for idx,q in enumerate(q2['reference']):\n",
    "        if q not in fusion_score:\n",
    "            fusion_score[q] = 1/ (idx + k)\n",
    "        else:\n",
    "            fusion_score[q] += 1 / (idx + k)\n",
    "\n",
    "    sorted_dict = sorted(fusion_score.items(), key=lambda item:item[1], reverse=True)\n",
    "    q1['reference'] = sorted_dict[0][0]\n",
    "    fusion_result.append(q1)\n",
    "\n",
    "with open('submit_fusion_ge+bm25.json','w',encoding='utf8') as up:\n",
    "    json.dump(fusion_result, up, ensure_ascii=False, indent=4)"
   ]
  },
  {
   "cell_type": "code",
   "execution_count": null,
   "id": "eeb4d2e4-efaa-4fae-966d-8d7bd26505ca",
   "metadata": {},
   "outputs": [
    {
     "data": {
      "application/vnd.jupyter.widget-view+json": {
       "model_id": "cf3d0ee3bf634165987f64dd369292e1",
       "version_major": 2,
       "version_minor": 0
      },
      "text/plain": [
       "config.json:   0%|          | 0.00/445 [00:00<?, ?B/s]"
      ]
     },
     "metadata": {},
     "output_type": "display_data"
    },
    {
     "data": {
      "application/vnd.jupyter.widget-view+json": {
       "model_id": "8bfaf7488cf5447f87ae79c1b7543014",
       "version_major": 2,
       "version_minor": 0
      },
      "text/plain": [
       "model.safetensors:   0%|          | 0.00/1.11G [00:00<?, ?B/s]"
      ]
     },
     "metadata": {},
     "output_type": "display_data"
    },
    {
     "name": "stderr",
     "output_type": "stream",
     "text": [
      "Error while downloading from https://cdn-lfs.hf-mirror.com/repos/fb/da/fbda43f02a4febe7d5ab4fa7e76c982ad061eefdb0d1a3eb08f1d684a1992954/ced967c45fd1902eb92716c9ceeca7c95a936770ea9db611f5a841b926e33fbd?response-content-disposition=inline%3B+filename*%3DUTF-8%27%27model.safetensors%3B+filename%3D%22model.safetensors%22%3B&Expires=1720255691&Policy=eyJTdGF0ZW1lbnQiOlt7IkNvbmRpdGlvbiI6eyJEYXRlTGVzc1RoYW4iOnsiQVdTOkVwb2NoVGltZSI6MTcyMDI1NTY5MX19LCJSZXNvdXJjZSI6Imh0dHBzOi8vY2RuLWxmcy5odWdnaW5nZmFjZS5jby9yZXBvcy9mYi9kYS9mYmRhNDNmMDJhNGZlYmU3ZDVhYjRmYTdlNzZjOTgyYWQwNjFlZWZkYjBkMWEzZWIwOGYxZDY4NGExOTkyOTU0L2NlZDk2N2M0NWZkMTkwMmViOTI3MTZjOWNlZWNhN2M5NWE5MzY3NzBlYTlkYjYxMWY1YTg0MWI5MjZlMzNmYmQ%7EcmVzcG9uc2UtY29udGVudC1kaXNwb3NpdGlvbj0qIn1dfQ__&Signature=lIoY5Kg6Y3ufOXoXae9E7uveuHbuuT1jTI%7EuiFS9PNn2EH4n6Ft2cpKIALkxEB9rwDpdsln9Gx5ysU03-FT8xuiVEUDbu9p2-VjAQGXhJJI-KW1n31wRQxGk-oWt7-CkFDvSqItrZcIz1jRiYju3-X7rd1uXbb1H74SMvdbQcrM8gBqTRyWlCLQvSDUEx-QZ%7EPHOgmP5U%7Erx8fZeA-ZsIN1MnCOqGaPK855zwduz-wWWLf2lZTjSIjVJvU0DW4qnHkZ3yo1CSGNWFtf0OjSavLrk7X%7EXSVuG1yD4vVP74APOXf5Km45Ec0RnPwtsHLDrvkvrs-AdpBwSpthIFLo5nQ__&Key-Pair-Id=K3ESJI6DHPFC7: HTTPSConnectionPool(host='cdn-lfs.hf-mirror.com', port=443): Read timed out.\n",
      "Trying to resume download...\n"
     ]
    },
    {
     "data": {
      "application/vnd.jupyter.widget-view+json": {
       "model_id": "7ca91d0824cc41cab1374621f6580e5c",
       "version_major": 2,
       "version_minor": 0
      },
      "text/plain": [
       "model.safetensors:   8%|7         | 83.9M/1.11G [00:00<?, ?B/s]"
      ]
     },
     "metadata": {},
     "output_type": "display_data"
    }
   ],
   "source": [
    "import jieba, json, pdfplumber\n",
    "import numpy as np\n",
    "from sklearn.feature_extraction.text import TfidfVectorizer\n",
    "from sklearn.preprocessing import normalize\n",
    "from rank_bm25 import BM25Okapi\n",
    "\n",
    "questions = json.load(open(\"questions.json\",encoding='utf-8'))\n",
    "\n",
    "pdf = pdfplumber.open(\"初赛训练数据集.pdf\")\n",
    "pdf_content = []\n",
    "for page_idx in range(len(pdf.pages)):\n",
    "    pdf_content.append({\n",
    "        'page': 'page_' + str(page_idx + 1),\n",
    "        'content': pdf.pages[page_idx].extract_text()\n",
    "    })\n",
    "\n",
    "# 加载重排序模型\n",
    "import torch\n",
    "from transformers import AutoModelForSequenceClassification, AutoTokenizer\n",
    "tokenizer = AutoTokenizer.from_pretrained('BAAI/bge-reranker-base')\n",
    "rerank_model = AutoModelForSequenceClassification.from_pretrained('BAAI/bge-reranker-base')\n",
    "rerank_model.cuda()\n",
    "\n",
    "pdf_content_words = [jieba.lcut(x['content']) for x in pdf_content]\n",
    "bm25 = BM25Okapi(pdf_content_words)\n",
    "\n",
    "for query_idx in range(len(questions)):\n",
    "\t\t# 首先进行BM25检索\n",
    "    doc_scores = bm25.get_scores(jieba.lcut(questions[query_idx][\"question\"]))\n",
    "    max_score_page_idxs = doc_scores.argsort()[-3:]\n",
    "\t\t\n",
    "\t\t# top3进行重排序\n",
    "    pairs = []\n",
    "    for idx in max_score_page_idxs:\n",
    "        pairs.append([questions[query_idx][\"question\"], pdf_content[idx]['content']])\n",
    "     #统一编码\n",
    "    inputs = tokenizer(pairs, padding=True, truncation=True, return_tensors='pt', max_length=512)\n",
    "    with torch.no_grad():\n",
    "        inputs = {key: inputs[key].cuda() for key in inputs.keys()}\n",
    "        scores = rerank_model(**inputs, return_dict=True).logits.view(-1, ).float()\n",
    "        #打分\n",
    "    max_score_page_idx = max_score_page_idxs[scores.cpu().numpy().argmax()]\n",
    "    questions[query_idx]['reference'] = 'page_' + str(max_score_page_idx + 1)\n",
    "\n",
    "with open('submit.json', 'w', encoding='utf8') as up:\n",
    "    json.dump(questions, up, ensure_ascii=False, indent=4)"
   ]
  },
  {
   "cell_type": "code",
   "execution_count": null,
   "id": "a804d529-961e-4021-97cc-c49e0eca3ec2",
   "metadata": {},
   "outputs": [],
   "source": []
  }
 ],
 "metadata": {
  "kernelspec": {
   "display_name": "Python 3 (ipykernel)",
   "language": "python",
   "name": "python3"
  },
  "language_info": {
   "codemirror_mode": {
    "name": "ipython",
    "version": 3
   },
   "file_extension": ".py",
   "mimetype": "text/x-python",
   "name": "python",
   "nbconvert_exporter": "python",
   "pygments_lexer": "ipython3",
   "version": "3.12.4"
  }
 },
 "nbformat": 4,
 "nbformat_minor": 5
}
