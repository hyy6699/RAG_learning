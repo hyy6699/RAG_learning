{
 "cells": [
  {
   "cell_type": "code",
   "execution_count": null,
   "id": "b8993aee-3e82-4f4d-8aec-f8d57d9806b1",
   "metadata": {},
   "outputs": [
    {
     "name": "stdout",
     "output_type": "stream",
     "text": [
      "questions[0]: {'question': '“前排座椅通风”的相关内容在第几页？', 'answer': '', 'reference': ''}\n"
     ]
    }
   ],
   "source": [
    "# # Use a pipeline as a high-level helper\n",
    "# Load model directly\n",
    "# 使用国内镜像网站\n",
    "import json\n",
    "import pdfplumber\n",
    "import jieba\n",
    "import numpy as np\n",
    "from sklearn.feature_extraction.text import TfidfVectorizer\n",
    "from sklearn.preprocessing import normalize\n",
    "import os\n",
    "os.environ[\"HF_ENDPOINT\"] = \"https://hf-mirror.com\"\n",
    "# 加载模型\n",
    "from sentence_transformers import SentenceTransformer\n",
    "model = SentenceTransformer(\"BAAI/bge-small-zh-v1.5\")\n",
    "#model = SentenceTransformer(\"Alibaba-NLP/gte-Qwen2-7B-instruct\")#no\n",
    "#model = SentenceTransformer(\"Alibaba-NLP/gte-Qwen1.5-7B-instruct\")#no\n",
    "#model = SentenceTransformer(\"BAAI/bge-large-en-v1.5\")#no\n",
    "\n",
    "\n",
    "#读取问答数据集\n",
    "questions = json.load(open(\"questions.json\",encoding='utf-8'))\n",
    "print('questions[0]:',questions[0])\n",
    "pdf = pdfplumber.open(\"初赛训练数据集.pdf\")\n",
    "len(pdf.pages) # 页数\n",
    "pdf.pages[0].extract_text() # 读取第一页内容\n",
    "# 读取所有页内容\n",
    "pdf_content = []\n",
    "for page_idx in range(len(pdf.pages)):\n",
    "    pdf_content.append({\n",
    "        'page': 'page_' + str(page_idx + 1),\n",
    "        'content': pdf.pages[page_idx].extract_text()\n",
    "    })\n",
    "# 对问题和文档内容进行分词\n",
    "question_sentences = [x['question'] for x in questions]\n",
    "pdf_content_sentences = [x['content'] for x in pdf_content]\n",
    "# 对问题和pdf内容做嵌入，也就是文本编码\n",
    "question_embeddings = model.encode(question_sentences, normalize_embeddings=True)\n",
    "pdf_embeddings = model.encode(pdf_content_sentences, normalize_embeddings=True)\n",
    "# 进行相似度打分和结果排序找到最相关的文档\n",
    "for query_idx, feat in enumerate(question_embeddings):\n",
    "    score = feat @ pdf_embeddings.T\n",
    "    max_score_page_idx = score.argsort()[-1] + 1\n",
    "    questions[query_idx]['reference'] = 'page_' + str(max_score_page_idx)\n",
    "\n",
    "with open('submit_bge.json', 'w', encoding='utf8') as up:\n",
    "    json.dump(questions, up, ensure_ascii=False, indent=4)"
   ]
  },
  {
   "cell_type": "code",
   "execution_count": null,
   "id": "d93a1eb2-6825-408c-bf4c-dffe1f897222",
   "metadata": {},
   "outputs": [],
   "source": []
  }
 ],
 "metadata": {
  "kernelspec": {
   "display_name": "Python 3 (ipykernel)",
   "language": "python",
   "name": "python3"
  },
  "language_info": {
   "codemirror_mode": {
    "name": "ipython",
    "version": 3
   },
   "file_extension": ".py",
   "mimetype": "text/x-python",
   "name": "python",
   "nbconvert_exporter": "python",
   "pygments_lexer": "ipython3",
   "version": "3.12.4"
  }
 },
 "nbformat": 4,
 "nbformat_minor": 5
}
