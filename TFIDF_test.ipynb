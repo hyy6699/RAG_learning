{
 "cells": [
  {
   "cell_type": "code",
   "execution_count": 8,
   "id": "224886f2-fade-4f5f-81e5-f5011181defa",
   "metadata": {},
   "outputs": [],
   "source": [
    "import json\n",
    "import pdfplumber\n",
    "import jieba\n",
    "import numpy as np\n",
    "from sklearn.feature_extraction.text import TfidfVectorizer\n",
    "from sklearn.preprocessing import normalize\n",
    "\n",
    "#读取数据集\n",
    "questions = json.load(open(\"questions.json\",encoding=\"utf-8\"))\n",
    "pdf = pdfplumber.open(\"初赛训练数据集.pdf\")\n",
    "pdf_content = []\n",
    "for page_idx in range(len(pdf.pages)):\n",
    "    pdf_content.append({\n",
    "        'page': 'page_' + str(page_idx + 1),\n",
    "        'content': pdf.pages[page_idx].extract_text()\n",
    "    })\n",
    "    \n",
    "#TFIDF\n",
    "# 对提问和PDF内容进行分词\n",
    "question_words = [' '.join(jieba.lcut(x['question'])) for x in questions]\n",
    "pdf_content_words = [' '.join(jieba.lcut(x['content'])) for x in pdf_content]\n",
    "\n",
    "# 提取TFIDF\n",
    "tfidf = TfidfVectorizer()\n",
    "tfidf.fit(question_words + pdf_content_words)\n",
    "\n",
    "question_feat = tfidf.transform(question_words)#转换为矩阵\n",
    "pdf_content_feat = tfidf.transform(pdf_content_words)\n",
    "\n",
    "# 进行归一化\n",
    "question_feat = normalize(question_feat) \n",
    "pdf_content_feat = normalize(pdf_content_feat)\n",
    "\n",
    "# 检索进行排序\n",
    "for query_idx, feat in enumerate(question_feat):\n",
    "    #对每个提问和每页PDF进行打分\n",
    "    score = feat @ pdf_content_feat.T\n",
    "    score = score.toarray()[0]\n",
    "    max_score_page_idx = score.argsort()[-1] + 1\n",
    "    questions[query_idx]['reference'] = 'page_' + str(max_score_page_idx)\n",
    "\n",
    "# 生成提交结果\n",
    "# https://competition.coggle.club/\n",
    "with open('submit_tfidf_t1.json', 'w', encoding='utf8') as up:\n",
    "    json.dump(questions, up, ensure_ascii=False, indent=4)\n"
   ]
  }
 ],
 "metadata": {
  "kernelspec": {
   "display_name": "Python 3 (ipykernel)",
   "language": "python",
   "name": "python3"
  },
  "language_info": {
   "codemirror_mode": {
    "name": "ipython",
    "version": 3
   },
   "file_extension": ".py",
   "mimetype": "text/x-python",
   "name": "python",
   "nbconvert_exporter": "python",
   "pygments_lexer": "ipython3",
   "version": "3.12.4"
  }
 },
 "nbformat": 4,
 "nbformat_minor": 5
}
