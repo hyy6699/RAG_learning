{
 "cells": [
  {
   "cell_type": "code",
   "execution_count": 15,
   "id": "8df588db-3cb8-4069-a955-13e6c6457a7e",
   "metadata": {},
   "outputs": [
    {
     "name": "stdout",
     "output_type": "stream",
     "text": [
      "questions[0]: {'question': '“前排座椅通风”的相关内容在第几页？', 'answer': '', 'reference': ''}\n"
     ]
    }
   ],
   "source": [
    "# # Use a pipeline as a high-level helper\n",
    "# Load model directly\n",
    "# 使用国内镜像网站\n",
    "import json\n",
    "import pdfplumber\n",
    "import jieba\n",
    "import numpy as np\n",
    "from sklearn.feature_extraction.text import TfidfVectorizer\n",
    "from sklearn.preprocessing import normalize\n",
    "import os\n",
    "os.environ[\"HF_ENDPOINT\"] = \"https://hf-mirror.com\"\n",
    "# 加载模型\n",
    "from sentence_transformers import SentenceTransformer\n",
    "\n",
    "#读取问答数据集\n",
    "questions = json.load(open(\"questions.json\",encoding='utf-8'))\n",
    "print('questions[0]:',questions[0])\n",
    "pdf = pdfplumber.open(\"初赛训练数据集.pdf\")\n",
    "len(pdf.pages) # 页数\n",
    "#pdf.pages[0].extract_text() # 读取第一页内容\n",
    "# 读取所有页内容\n",
    "pdf_content = []\n",
    "def split_text_fixed_size(text, chunk_size):\n",
    "    return [text[i:i+chunk_size] for i in range(0, len(text), chunk_size)]\n",
    "#对文本进行拆分\n",
    "for page_idx in range(len(pdf.pages)):\n",
    "    text = pdf.pages[page_idx].extract_text()\n",
    "    for chunk_text in split_text_fixed_size(text, 40): #定义函数使文本按照40个字符去切割\n",
    "         pdf_content.append({\n",
    "        'page': 'page_' + str(page_idx + 1),\n",
    "        'content': chunk_text\n",
    "    })\n",
    "   \n",
    "model = SentenceTransformer(\"BAAI/bge-small-zh-v1.5\")\n",
    "\n",
    "# 对问题和文档内容进行分词\n",
    "question_sentences = [x['question'] for x in questions]\n",
    "pdf_content_sentences = [x['content'] for x in pdf_content]\n",
    "# 对问题和pdf内容做嵌入，也就是文本编码\n",
    "question_embeddings = model.encode(question_sentences, normalize_embeddings=True)\n",
    "pdf_embeddings = model.encode(pdf_content_sentences, normalize_embeddings=True)\n",
    "# 进行相似度打分和结果排序找到最相关的文档\n",
    "for query_idx, feat in enumerate(question_embeddings):\n",
    "    score = feat @ pdf_embeddings.T\n",
    "    max_score_page_idx = score.argsort()[-1] + 1\n",
    "    questions[query_idx]['reference'] = pdf_content[max_score_page_idx]['page']\n",
    "\n",
    "with open('submit_bge_chunk_t1.json', 'w', encoding='utf8') as up:\n",
    "    json.dump(questions, up, ensure_ascii=False, indent=4)\n",
    "\n",
    "\n",
    "def remove_duplicates(input_list):\n",
    "    seen = set()\n",
    "    result = []\n",
    "    for item in input_list:\n",
    "        if item not in seen:\n",
    "            seen.add(item)\n",
    "            result.append(item)\n",
    "    return result\n",
    "\n",
    "for query_idx, feat in enumerate(question_embeddings):\n",
    "    score = feat @ pdf_embeddings.T\n",
    "    max_score_page_idx = score.argsort()[::-1]\n",
    "    pages = [pdf_content[x]['page'] for x in max_score_page_idx]\n",
    "    questions[query_idx]['reference'] = remove_duplicates(pages[:100])[:10]\n",
    "\n",
    "with open('submit_bge_t10.json', 'w', encoding='utf8') as up:\n",
    "    json.dump(questions, up, ensure_ascii=False, indent=4)"
   ]
  },
  {
   "cell_type": "code",
   "execution_count": null,
   "id": "e453e1ae-ca5d-4ab3-9f97-493b95f7c711",
   "metadata": {},
   "outputs": [],
   "source": []
  }
 ],
 "metadata": {
  "kernelspec": {
   "display_name": "Python 3 (ipykernel)",
   "language": "python",
   "name": "python3"
  },
  "language_info": {
   "codemirror_mode": {
    "name": "ipython",
    "version": 3
   },
   "file_extension": ".py",
   "mimetype": "text/x-python",
   "name": "python",
   "nbconvert_exporter": "python",
   "pygments_lexer": "ipython3",
   "version": "3.12.4"
  }
 },
 "nbformat": 4,
 "nbformat_minor": 5
}
