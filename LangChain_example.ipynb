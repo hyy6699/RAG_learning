{
 "cells": [
  {
   "cell_type": "code",
   "execution_count": null,
   "id": "5f02ea3a-595e-4c97-82b9-8d59879e7af9",
   "metadata": {},
   "outputs": [],
   "source": [
    "# 导入LangChain的库\n",
    "from langchain import *\n",
    "\n",
    "# 加载数据源\n",
    "loader = WebBaseLoader()\n",
    "doc = loader.load(\"https://xxx.html\")\n",
    "\n",
    "# 分割文档对象\n",
    "splitter = RecursiveCharacterTextSplitter(max_length=512)\n",
    "docs = splitter.split(doc)\n",
    "\n",
    "# 转换文档对象为嵌入，并存储到向量存储器中\n",
    "embedder = OpenAIEmbeddings()\n",
    "vector_store = ChromaVectorStore()\n",
    "for doc in docs:\n",
    "    embedding = embedder.embed(doc.page_content)\n",
    "    vector_store.add(embedding, doc)\n",
    "\n",
    "# 创建检索器\n",
    "retriever = VectorStoreRetriever(vector_store, embedder)\n",
    "\n",
    "# 创建聊天模型\n",
    "prompt = hub.pull(\"rlm/rag-prompt\")\n",
    "llm = ChatOpenAI(model_name=\"gpt-3.5-turbo\", temperature=0)\n",
    "\n",
    "# 创建一个问答应用\n",
    "def format_docs(docs):\n",
    "    return \"\\n\\n\".join(doc.page_content for doc in docs)\n",
    "\n",
    "\n",
    "rag_chain = (\n",
    "    {\"context\": retriever | format_docs, \"question\": RunnablePassthrough()}\n",
    "    | prompt\n",
    "    | llm\n",
    "    | StrOutputParser()\n",
    ")\n",
    "\n",
    "# 启动应用\n",
    "rag_chain.invoke(\"What is main purpose of xxx.html?\")"
   ]
  }
 ],
 "metadata": {
  "kernelspec": {
   "display_name": "Python 3 (ipykernel)",
   "language": "python",
   "name": "python3"
  },
  "language_info": {
   "codemirror_mode": {
    "name": "ipython",
    "version": 3
   },
   "file_extension": ".py",
   "mimetype": "text/x-python",
   "name": "python",
   "nbconvert_exporter": "python",
   "pygments_lexer": "ipython3",
   "version": "3.12.4"
  }
 },
 "nbformat": 4,
 "nbformat_minor": 5
}
